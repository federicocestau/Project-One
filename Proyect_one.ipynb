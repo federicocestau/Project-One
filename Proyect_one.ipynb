{
 "cells": [
  {
   "cell_type": "code",
   "execution_count": 2,
   "metadata": {},
   "outputs": [],
   "source": [
    "import numpy as np\n",
    "import pandas as pd\n",
    "import matplotlib.pyplot as plt\n",
    "import seaborn as sns\n",
    "import scipy.stats as st\n",
    "\n",
    "%matplotlib inline"
   ]
  },
  {
   "cell_type": "code",
   "execution_count": 3,
   "metadata": {},
   "outputs": [
    {
     "data": {
      "text/html": [
       "<div>\n",
       "<style scoped>\n",
       "    .dataframe tbody tr th:only-of-type {\n",
       "        vertical-align: middle;\n",
       "    }\n",
       "\n",
       "    .dataframe tbody tr th {\n",
       "        vertical-align: top;\n",
       "    }\n",
       "\n",
       "    .dataframe thead th {\n",
       "        text-align: right;\n",
       "    }\n",
       "</style>\n",
       "<table border=\"1\" class=\"dataframe\">\n",
       "  <thead>\n",
       "    <tr style=\"text-align: right;\">\n",
       "      <th></th>\n",
       "      <th>country</th>\n",
       "      <th>year</th>\n",
       "      <th>sex</th>\n",
       "      <th>age</th>\n",
       "      <th>suicides_no</th>\n",
       "      <th>population</th>\n",
       "      <th>suicides/100k pop</th>\n",
       "      <th>country-year</th>\n",
       "      <th>HDI for year</th>\n",
       "      <th>gdp_for_year ($)</th>\n",
       "      <th>gdp_per_capita ($)</th>\n",
       "      <th>generation</th>\n",
       "    </tr>\n",
       "  </thead>\n",
       "  <tbody>\n",
       "    <tr>\n",
       "      <th>0</th>\n",
       "      <td>Albania</td>\n",
       "      <td>1987</td>\n",
       "      <td>male</td>\n",
       "      <td>15-24 years</td>\n",
       "      <td>21</td>\n",
       "      <td>312900</td>\n",
       "      <td>6.71</td>\n",
       "      <td>Albania1987</td>\n",
       "      <td>NaN</td>\n",
       "      <td>2,156,624,900</td>\n",
       "      <td>796</td>\n",
       "      <td>Generation X</td>\n",
       "    </tr>\n",
       "    <tr>\n",
       "      <th>1</th>\n",
       "      <td>Albania</td>\n",
       "      <td>1987</td>\n",
       "      <td>male</td>\n",
       "      <td>35-54 years</td>\n",
       "      <td>16</td>\n",
       "      <td>308000</td>\n",
       "      <td>5.19</td>\n",
       "      <td>Albania1987</td>\n",
       "      <td>NaN</td>\n",
       "      <td>2,156,624,900</td>\n",
       "      <td>796</td>\n",
       "      <td>Silent</td>\n",
       "    </tr>\n",
       "    <tr>\n",
       "      <th>2</th>\n",
       "      <td>Albania</td>\n",
       "      <td>1987</td>\n",
       "      <td>female</td>\n",
       "      <td>15-24 years</td>\n",
       "      <td>14</td>\n",
       "      <td>289700</td>\n",
       "      <td>4.83</td>\n",
       "      <td>Albania1987</td>\n",
       "      <td>NaN</td>\n",
       "      <td>2,156,624,900</td>\n",
       "      <td>796</td>\n",
       "      <td>Generation X</td>\n",
       "    </tr>\n",
       "    <tr>\n",
       "      <th>3</th>\n",
       "      <td>Albania</td>\n",
       "      <td>1987</td>\n",
       "      <td>male</td>\n",
       "      <td>75+ years</td>\n",
       "      <td>1</td>\n",
       "      <td>21800</td>\n",
       "      <td>4.59</td>\n",
       "      <td>Albania1987</td>\n",
       "      <td>NaN</td>\n",
       "      <td>2,156,624,900</td>\n",
       "      <td>796</td>\n",
       "      <td>G.I. Generation</td>\n",
       "    </tr>\n",
       "    <tr>\n",
       "      <th>4</th>\n",
       "      <td>Albania</td>\n",
       "      <td>1987</td>\n",
       "      <td>male</td>\n",
       "      <td>25-34 years</td>\n",
       "      <td>9</td>\n",
       "      <td>274300</td>\n",
       "      <td>3.28</td>\n",
       "      <td>Albania1987</td>\n",
       "      <td>NaN</td>\n",
       "      <td>2,156,624,900</td>\n",
       "      <td>796</td>\n",
       "      <td>Boomers</td>\n",
       "    </tr>\n",
       "  </tbody>\n",
       "</table>\n",
       "</div>"
      ],
      "text/plain": [
       "   country  year     sex          age  suicides_no  population  \\\n",
       "0  Albania  1987    male  15-24 years           21      312900   \n",
       "1  Albania  1987    male  35-54 years           16      308000   \n",
       "2  Albania  1987  female  15-24 years           14      289700   \n",
       "3  Albania  1987    male    75+ years            1       21800   \n",
       "4  Albania  1987    male  25-34 years            9      274300   \n",
       "\n",
       "   suicides/100k pop country-year  HDI for year  gdp_for_year ($)   \\\n",
       "0               6.71  Albania1987           NaN      2,156,624,900   \n",
       "1               5.19  Albania1987           NaN      2,156,624,900   \n",
       "2               4.83  Albania1987           NaN      2,156,624,900   \n",
       "3               4.59  Albania1987           NaN      2,156,624,900   \n",
       "4               3.28  Albania1987           NaN      2,156,624,900   \n",
       "\n",
       "   gdp_per_capita ($)       generation  \n",
       "0                 796     Generation X  \n",
       "1                 796           Silent  \n",
       "2                 796     Generation X  \n",
       "3                 796  G.I. Generation  \n",
       "4                 796          Boomers  "
      ]
     },
     "execution_count": 3,
     "metadata": {},
     "output_type": "execute_result"
    }
   ],
   "source": [
    "Suicide_data = pd.read_csv('C:/Users/cdpedroza/DataViz/Homework/master.csv')\n",
    "Suicide_data.head()"
   ]
  },
  {
   "cell_type": "code",
   "execution_count": 4,
   "metadata": {},
   "outputs": [
    {
     "data": {
      "text/html": [
       "<div>\n",
       "<style scoped>\n",
       "    .dataframe tbody tr th:only-of-type {\n",
       "        vertical-align: middle;\n",
       "    }\n",
       "\n",
       "    .dataframe tbody tr th {\n",
       "        vertical-align: top;\n",
       "    }\n",
       "\n",
       "    .dataframe thead th {\n",
       "        text-align: right;\n",
       "    }\n",
       "</style>\n",
       "<table border=\"1\" class=\"dataframe\">\n",
       "  <thead>\n",
       "    <tr style=\"text-align: right;\">\n",
       "      <th></th>\n",
       "      <th>year</th>\n",
       "      <th>suicides_no</th>\n",
       "      <th>population</th>\n",
       "      <th>suicides/100k pop</th>\n",
       "      <th>HDI for year</th>\n",
       "      <th>gdp_per_capita ($)</th>\n",
       "    </tr>\n",
       "  </thead>\n",
       "  <tbody>\n",
       "    <tr>\n",
       "      <th>count</th>\n",
       "      <td>27820.000000</td>\n",
       "      <td>27820.000000</td>\n",
       "      <td>2.782000e+04</td>\n",
       "      <td>27820.000000</td>\n",
       "      <td>8364.000000</td>\n",
       "      <td>27820.000000</td>\n",
       "    </tr>\n",
       "    <tr>\n",
       "      <th>mean</th>\n",
       "      <td>2001.258375</td>\n",
       "      <td>242.574407</td>\n",
       "      <td>1.844794e+06</td>\n",
       "      <td>12.816097</td>\n",
       "      <td>0.776601</td>\n",
       "      <td>16866.464414</td>\n",
       "    </tr>\n",
       "    <tr>\n",
       "      <th>std</th>\n",
       "      <td>8.469055</td>\n",
       "      <td>902.047917</td>\n",
       "      <td>3.911779e+06</td>\n",
       "      <td>18.961511</td>\n",
       "      <td>0.093367</td>\n",
       "      <td>18887.576472</td>\n",
       "    </tr>\n",
       "    <tr>\n",
       "      <th>min</th>\n",
       "      <td>1985.000000</td>\n",
       "      <td>0.000000</td>\n",
       "      <td>2.780000e+02</td>\n",
       "      <td>0.000000</td>\n",
       "      <td>0.483000</td>\n",
       "      <td>251.000000</td>\n",
       "    </tr>\n",
       "    <tr>\n",
       "      <th>25%</th>\n",
       "      <td>1995.000000</td>\n",
       "      <td>3.000000</td>\n",
       "      <td>9.749850e+04</td>\n",
       "      <td>0.920000</td>\n",
       "      <td>0.713000</td>\n",
       "      <td>3447.000000</td>\n",
       "    </tr>\n",
       "    <tr>\n",
       "      <th>50%</th>\n",
       "      <td>2002.000000</td>\n",
       "      <td>25.000000</td>\n",
       "      <td>4.301500e+05</td>\n",
       "      <td>5.990000</td>\n",
       "      <td>0.779000</td>\n",
       "      <td>9372.000000</td>\n",
       "    </tr>\n",
       "    <tr>\n",
       "      <th>75%</th>\n",
       "      <td>2008.000000</td>\n",
       "      <td>131.000000</td>\n",
       "      <td>1.486143e+06</td>\n",
       "      <td>16.620000</td>\n",
       "      <td>0.855000</td>\n",
       "      <td>24874.000000</td>\n",
       "    </tr>\n",
       "    <tr>\n",
       "      <th>max</th>\n",
       "      <td>2016.000000</td>\n",
       "      <td>22338.000000</td>\n",
       "      <td>4.380521e+07</td>\n",
       "      <td>224.970000</td>\n",
       "      <td>0.944000</td>\n",
       "      <td>126352.000000</td>\n",
       "    </tr>\n",
       "  </tbody>\n",
       "</table>\n",
       "</div>"
      ],
      "text/plain": [
       "               year   suicides_no    population  suicides/100k pop  \\\n",
       "count  27820.000000  27820.000000  2.782000e+04       27820.000000   \n",
       "mean    2001.258375    242.574407  1.844794e+06          12.816097   \n",
       "std        8.469055    902.047917  3.911779e+06          18.961511   \n",
       "min     1985.000000      0.000000  2.780000e+02           0.000000   \n",
       "25%     1995.000000      3.000000  9.749850e+04           0.920000   \n",
       "50%     2002.000000     25.000000  4.301500e+05           5.990000   \n",
       "75%     2008.000000    131.000000  1.486143e+06          16.620000   \n",
       "max     2016.000000  22338.000000  4.380521e+07         224.970000   \n",
       "\n",
       "       HDI for year  gdp_per_capita ($)  \n",
       "count   8364.000000        27820.000000  \n",
       "mean       0.776601        16866.464414  \n",
       "std        0.093367        18887.576472  \n",
       "min        0.483000          251.000000  \n",
       "25%        0.713000         3447.000000  \n",
       "50%        0.779000         9372.000000  \n",
       "75%        0.855000        24874.000000  \n",
       "max        0.944000       126352.000000  "
      ]
     },
     "execution_count": 4,
     "metadata": {},
     "output_type": "execute_result"
    }
   ],
   "source": [
    "Suicide_data.describe()"
   ]
  },
  {
   "cell_type": "code",
   "execution_count": 5,
   "metadata": {},
   "outputs": [
    {
     "name": "stdout",
     "output_type": "stream",
     "text": [
      "<class 'pandas.core.frame.DataFrame'>\n",
      "RangeIndex: 27820 entries, 0 to 27819\n",
      "Data columns (total 12 columns):\n",
      " #   Column              Non-Null Count  Dtype  \n",
      "---  ------              --------------  -----  \n",
      " 0   country             27820 non-null  object \n",
      " 1   year                27820 non-null  int64  \n",
      " 2   sex                 27820 non-null  object \n",
      " 3   age                 27820 non-null  object \n",
      " 4   suicides_no         27820 non-null  int64  \n",
      " 5   population          27820 non-null  int64  \n",
      " 6   suicides/100k pop   27820 non-null  float64\n",
      " 7   country-year        27820 non-null  object \n",
      " 8   HDI for year        8364 non-null   float64\n",
      " 9    gdp_for_year ($)   27820 non-null  object \n",
      " 10  gdp_per_capita ($)  27820 non-null  int64  \n",
      " 11  generation          27820 non-null  object \n",
      "dtypes: float64(2), int64(4), object(6)\n",
      "memory usage: 2.5+ MB\n"
     ]
    }
   ],
   "source": [
    "Suicide_data.info()"
   ]
  },
  {
   "cell_type": "code",
   "execution_count": 6,
   "metadata": {},
   "outputs": [
    {
     "data": {
      "text/plain": [
       "country                   0\n",
       "year                      0\n",
       "sex                       0\n",
       "age                       0\n",
       "suicides_no               0\n",
       "population                0\n",
       "suicides/100k pop         0\n",
       "country-year              0\n",
       "HDI for year          19456\n",
       " gdp_for_year ($)         0\n",
       "gdp_per_capita ($)        0\n",
       "generation                0\n",
       "dtype: int64"
      ]
     },
     "execution_count": 6,
     "metadata": {},
     "output_type": "execute_result"
    }
   ],
   "source": [
    "Suicide_data.isnull().sum()"
   ]
  },
  {
   "cell_type": "code",
   "execution_count": 7,
   "metadata": {},
   "outputs": [],
   "source": [
    "Suicide_data.drop(['country-year', 'HDI for year'], inplace=True, axis = 1)"
   ]
  },
  {
   "cell_type": "code",
   "execution_count": 7,
   "metadata": {},
   "outputs": [
    {
     "data": {
      "text/html": [
       "<div>\n",
       "<style scoped>\n",
       "    .dataframe tbody tr th:only-of-type {\n",
       "        vertical-align: middle;\n",
       "    }\n",
       "\n",
       "    .dataframe tbody tr th {\n",
       "        vertical-align: top;\n",
       "    }\n",
       "\n",
       "    .dataframe thead th {\n",
       "        text-align: right;\n",
       "    }\n",
       "</style>\n",
       "<table border=\"1\" class=\"dataframe\">\n",
       "  <thead>\n",
       "    <tr style=\"text-align: right;\">\n",
       "      <th></th>\n",
       "      <th>country</th>\n",
       "      <th>year</th>\n",
       "      <th>sex</th>\n",
       "      <th>age</th>\n",
       "      <th>suicides_no</th>\n",
       "      <th>population</th>\n",
       "      <th>suicides/100k pop</th>\n",
       "      <th>gdp_for_year ($)</th>\n",
       "      <th>gdp_per_capita ($)</th>\n",
       "      <th>generation</th>\n",
       "    </tr>\n",
       "  </thead>\n",
       "  <tbody>\n",
       "    <tr>\n",
       "      <th>0</th>\n",
       "      <td>Albania</td>\n",
       "      <td>1987</td>\n",
       "      <td>male</td>\n",
       "      <td>15-24 years</td>\n",
       "      <td>21</td>\n",
       "      <td>312900</td>\n",
       "      <td>6.71</td>\n",
       "      <td>2,156,624,900</td>\n",
       "      <td>796</td>\n",
       "      <td>Generation X</td>\n",
       "    </tr>\n",
       "    <tr>\n",
       "      <th>1</th>\n",
       "      <td>Albania</td>\n",
       "      <td>1987</td>\n",
       "      <td>male</td>\n",
       "      <td>35-54 years</td>\n",
       "      <td>16</td>\n",
       "      <td>308000</td>\n",
       "      <td>5.19</td>\n",
       "      <td>2,156,624,900</td>\n",
       "      <td>796</td>\n",
       "      <td>Silent</td>\n",
       "    </tr>\n",
       "    <tr>\n",
       "      <th>2</th>\n",
       "      <td>Albania</td>\n",
       "      <td>1987</td>\n",
       "      <td>female</td>\n",
       "      <td>15-24 years</td>\n",
       "      <td>14</td>\n",
       "      <td>289700</td>\n",
       "      <td>4.83</td>\n",
       "      <td>2,156,624,900</td>\n",
       "      <td>796</td>\n",
       "      <td>Generation X</td>\n",
       "    </tr>\n",
       "    <tr>\n",
       "      <th>3</th>\n",
       "      <td>Albania</td>\n",
       "      <td>1987</td>\n",
       "      <td>male</td>\n",
       "      <td>75+ years</td>\n",
       "      <td>1</td>\n",
       "      <td>21800</td>\n",
       "      <td>4.59</td>\n",
       "      <td>2,156,624,900</td>\n",
       "      <td>796</td>\n",
       "      <td>G.I. Generation</td>\n",
       "    </tr>\n",
       "    <tr>\n",
       "      <th>4</th>\n",
       "      <td>Albania</td>\n",
       "      <td>1987</td>\n",
       "      <td>male</td>\n",
       "      <td>25-34 years</td>\n",
       "      <td>9</td>\n",
       "      <td>274300</td>\n",
       "      <td>3.28</td>\n",
       "      <td>2,156,624,900</td>\n",
       "      <td>796</td>\n",
       "      <td>Boomers</td>\n",
       "    </tr>\n",
       "  </tbody>\n",
       "</table>\n",
       "</div>"
      ],
      "text/plain": [
       "   country  year     sex          age  suicides_no  population  \\\n",
       "0  Albania  1987    male  15-24 years           21      312900   \n",
       "1  Albania  1987    male  35-54 years           16      308000   \n",
       "2  Albania  1987  female  15-24 years           14      289700   \n",
       "3  Albania  1987    male    75+ years            1       21800   \n",
       "4  Albania  1987    male  25-34 years            9      274300   \n",
       "\n",
       "   suicides/100k pop  gdp_for_year ($)   gdp_per_capita ($)       generation  \n",
       "0               6.71      2,156,624,900                 796     Generation X  \n",
       "1               5.19      2,156,624,900                 796           Silent  \n",
       "2               4.83      2,156,624,900                 796     Generation X  \n",
       "3               4.59      2,156,624,900                 796  G.I. Generation  \n",
       "4               3.28      2,156,624,900                 796          Boomers  "
      ]
     },
     "execution_count": 7,
     "metadata": {},
     "output_type": "execute_result"
    }
   ],
   "source": [
    "Suicide_data.head()"
   ]
  },
  {
   "cell_type": "code",
   "execution_count": 8,
   "metadata": {},
   "outputs": [],
   "source": [
    "Suicide_data = Suicide_data.rename(columns={'gdp_per_capita ($)': 'gdp_per_capita', ' gdp_for_year ($) ':'gdp_for_year'})"
   ]
  },
  {
   "cell_type": "code",
   "execution_count": 9,
   "metadata": {},
   "outputs": [
    {
     "name": "stderr",
     "output_type": "stream",
     "text": [
      "C:\\Users\\cdpedroza\\.conda\\envs\\PythonData\\lib\\site-packages\\ipykernel_launcher.py:2: SettingWithCopyWarning: \n",
      "A value is trying to be set on a copy of a slice from a DataFrame\n",
      "\n",
      "See the caveats in the documentation: https://pandas.pydata.org/pandas-docs/stable/user_guide/indexing.html#returning-a-view-versus-a-copy\n",
      "  \n"
     ]
    }
   ],
   "source": [
    "\n",
    "for i, x in enumerate(Suicide_data['gdp_for_year']):\n",
    "    Suicide_data['gdp_for_year'][i] = x.replace(',', '')\n",
    "    \n",
    "Suicide_data['gdp_for_year'] = Suicide_data['gdp_for_year'].astype('int64')"
   ]
  },
  {
   "cell_type": "code",
   "execution_count": 60,
   "metadata": {},
   "outputs": [
    {
     "data": {
      "text/plain": [
       "<matplotlib.axes._subplots.AxesSubplot at 0x24dcdd80348>"
      ]
     },
     "execution_count": 60,
     "metadata": {},
     "output_type": "execute_result"
    },
    {
     "data": {
      "image/png": "[encoded data removed]",
      "text/plain": [
       "<Figure size 576x360 with 1 Axes>"
      ]
     },
     "metadata": {
      "needs_background": "light"
     },
     "output_type": "display_data"
    }
   ],
   "source": [
    "\n",
    "suicides_no_year = []\n",
    "\n",
    "for y in Suicide_data['year'].unique():\n",
    "    suicides_no_year.append(sum([Suicide_data['year'] == y]['suicides_no']))\n",
    "\n",
    "n_suicides_year = pd.DataFrame(suicides_no_year, columns=['suicides_no_year'])\n",
    "n_suicides_year['year'] = Suicide_data['year'].unique()\n",
    "\n",
    "top_year = n_suicides_year.sort_values('suicides_no_year', ascending=False)['year']\n",
    "top_suicides = n_suicides_year.sort_values('suicides_no_year', ascending=False)['suicides_no_year']\n",
    "\n",
    "\n",
    "plt.figure(figsize=(8,5))\n",
    "plt.title(\"Suicide data distribution per suicides in years\")\n",
    "plt.xticks(rotation=90)\n",
    "sns.barplot(x = top_year, y = top_suicides)"
   ]
  },
  {
   "cell_type": "code",
   "execution_count": null,
   "metadata": {},
   "outputs": [],
   "source": []
  },
  {
   "cell_type": "code",
   "execution_count": null,
   "metadata": {},
   "outputs": [],
   "source": []
  },
  {
   "cell_type": "code",
   "execution_count": 10,
   "metadata": {},
   "outputs": [
    {
     "data": {
      "text/plain": [
       "<matplotlib.axes._subplots.AxesSubplot at 0x692dd88>"
      ]
     },
     "execution_count": 10,
     "metadata": {},
     "output_type": "execute_result"
    },
    {
     "data": {
      "image/png": "[encoded data removed]",
      "text/plain": [
       "<Figure size 432x288 with 1 Axes>"
      ]
     },
     "metadata": {
      "needs_background": "light"
     },
     "output_type": "display_data"
    }
   ],
   "source": [
    "suicides_no_country = []\n",
    "for c in Suicide_data['country'].unique():\n",
    "    suicides_no_country.append(sum(Suicide_data[Suicide_data['country'] == c]['suicides_no']))\n",
    "    \n",
    "n_suicides_country = pd.DataFrame(suicides_no_country, columns=['suicides_no_country'])\n",
    "n_suicides_country['country'] = Suicide_data['country'].unique()\n",
    "\n",
    "quant = 15\n",
    "top_country = n_suicides_country.sort_values('suicides_no_country', ascending=False)['country'][:quant]\n",
    "top_suicides = n_suicides_country.sort_values('suicides_no_country', ascending=False)['suicides_no_country'][:quant]\n",
    "plt.title(\"Contrys with more Suicide in 75 years\")\n",
    "sns.barplot(x = top_suicides, y = top_country)"
   ]
  },
  {
   "cell_type": "code",
   "execution_count": 11,
   "metadata": {},
   "outputs": [
    {
     "data": {
      "text/plain": [
       "<matplotlib.axes._subplots.AxesSubplot at 0xbb63348>"
      ]
     },
     "execution_count": 11,
     "metadata": {},
     "output_type": "execute_result"
    },
    {
     "data": {
      "image/png": "[encoded data removed]",
      "text/plain": [
       "<Figure size 432x288 with 1 Axes>"
      ]
     },
     "metadata": {
      "needs_background": "light"
     },
     "output_type": "display_data"
    }
   ],
   "source": [
    "suicides_no_country = []\n",
    "for c in Suicide_data['country'].unique():\n",
    "    suicides_no_country.append(sum(Suicide_data[Suicide_data['country'] == c]['suicides/100k pop']))\n",
    "    \n",
    "n_suicides_country = pd.DataFrame(suicides_no_country, columns=['suicides_no_pais/100k'])\n",
    "n_suicides_country['country'] = Suicide_data['country'].unique()\n",
    "\n",
    "quant = 15\n",
    "top_country = n_suicides_country.sort_values('suicides_no_pais/100k', ascending=False)['country'][:quant]\n",
    "top_suicides = n_suicides_country.sort_values('suicides_no_pais/100k', ascending=False)['suicides_no_pais/100k'][:quant]\n",
    "plt.title(\"Contrys with more Rate of suicide\")\n",
    "sns.barplot(x = top_suicides, y = top_country)"
   ]
  },
  {
   "cell_type": "raw",
   "metadata": {},
   "source": []
  },
  {
   "cell_type": "code",
   "execution_count": 12,
   "metadata": {},
   "outputs": [
    {
     "data": {
      "text/plain": [
       "<matplotlib.axes._subplots.AxesSubplot at 0xbb9b988>"
      ]
     },
     "execution_count": 12,
     "metadata": {},
     "output_type": "execute_result"
    },
    {
     "data": {
      "image/png": "[encoded data removed]",
      "text/plain": [
       "<Figure size 864x432 with 1 Axes>"
      ]
     },
     "metadata": {
      "needs_background": "light"
     },
     "output_type": "display_data"
    }
   ],
   "source": [
    "countries = ['Russian Federation', 'Lithuania', \"Hungary\", 'United States','Japan']\n",
    "df_filtred = Suicide_data[[Suicide_data['country'][i] in countries for i in range(len(Suicide_data))]]\n",
    "\n",
    "plt.figure(figsize=(12,6))\n",
    "sns.boxplot(x = 'suicides/100k pop', y = 'country', data = df_filtred)"
   ]
  },
  {
   "cell_type": "code",
   "execution_count": 13,
   "metadata": {},
   "outputs": [
    {
     "name": "stderr",
     "output_type": "stream",
     "text": [
      "C:\\Users\\cdpedroza\\.conda\\envs\\PythonData\\lib\\site-packages\\pandas\\core\\frame.py:3997: SettingWithCopyWarning: \n",
      "A value is trying to be set on a copy of a slice from a DataFrame\n",
      "\n",
      "See the caveats in the documentation: https://pandas.pydata.org/pandas-docs/stable/user_guide/indexing.html#returning-a-view-versus-a-copy\n",
      "  errors=errors,\n"
     ]
    },
    {
     "data": {
      "text/html": [
       "<div>\n",
       "<style scoped>\n",
       "    .dataframe tbody tr th:only-of-type {\n",
       "        vertical-align: middle;\n",
       "    }\n",
       "\n",
       "    .dataframe tbody tr th {\n",
       "        vertical-align: top;\n",
       "    }\n",
       "\n",
       "    .dataframe thead th {\n",
       "        text-align: right;\n",
       "    }\n",
       "</style>\n",
       "<table border=\"1\" class=\"dataframe\">\n",
       "  <thead>\n",
       "    <tr style=\"text-align: right;\">\n",
       "      <th></th>\n",
       "      <th>year</th>\n",
       "      <th>sex</th>\n",
       "      <th>age</th>\n",
       "      <th>suicides_no</th>\n",
       "      <th>population</th>\n",
       "      <th>suicides/100k pop</th>\n",
       "      <th>gdp_for_year</th>\n",
       "      <th>gdp_per_capita</th>\n",
       "      <th>generation</th>\n",
       "    </tr>\n",
       "  </thead>\n",
       "  <tbody>\n",
       "    <tr>\n",
       "      <th>20936</th>\n",
       "      <td>1989</td>\n",
       "      <td>male</td>\n",
       "      <td>75+ years</td>\n",
       "      <td>1393</td>\n",
       "      <td>1349100</td>\n",
       "      <td>103.25</td>\n",
       "      <td>506500173960</td>\n",
       "      <td>3740</td>\n",
       "      <td>G.I. Generation</td>\n",
       "    </tr>\n",
       "    <tr>\n",
       "      <th>20937</th>\n",
       "      <td>1989</td>\n",
       "      <td>male</td>\n",
       "      <td>35-54 years</td>\n",
       "      <td>12030</td>\n",
       "      <td>18058500</td>\n",
       "      <td>66.62</td>\n",
       "      <td>506500173960</td>\n",
       "      <td>3740</td>\n",
       "      <td>Silent</td>\n",
       "    </tr>\n",
       "    <tr>\n",
       "      <th>20938</th>\n",
       "      <td>1989</td>\n",
       "      <td>male</td>\n",
       "      <td>55-74 years</td>\n",
       "      <td>6250</td>\n",
       "      <td>9383700</td>\n",
       "      <td>66.60</td>\n",
       "      <td>506500173960</td>\n",
       "      <td>3740</td>\n",
       "      <td>G.I. Generation</td>\n",
       "    </tr>\n",
       "    <tr>\n",
       "      <th>20939</th>\n",
       "      <td>1989</td>\n",
       "      <td>male</td>\n",
       "      <td>25-34 years</td>\n",
       "      <td>6856</td>\n",
       "      <td>12748800</td>\n",
       "      <td>53.78</td>\n",
       "      <td>506500173960</td>\n",
       "      <td>3740</td>\n",
       "      <td>Boomers</td>\n",
       "    </tr>\n",
       "    <tr>\n",
       "      <th>20940</th>\n",
       "      <td>1989</td>\n",
       "      <td>female</td>\n",
       "      <td>75+ years</td>\n",
       "      <td>1677</td>\n",
       "      <td>4738100</td>\n",
       "      <td>35.39</td>\n",
       "      <td>506500173960</td>\n",
       "      <td>3740</td>\n",
       "      <td>G.I. Generation</td>\n",
       "    </tr>\n",
       "  </tbody>\n",
       "</table>\n",
       "</div>"
      ],
      "text/plain": [
       "       year     sex          age  suicides_no  population  suicides/100k pop  \\\n",
       "20936  1989    male    75+ years         1393     1349100             103.25   \n",
       "20937  1989    male  35-54 years        12030    18058500              66.62   \n",
       "20938  1989    male  55-74 years         6250     9383700              66.60   \n",
       "20939  1989    male  25-34 years         6856    12748800              53.78   \n",
       "20940  1989  female    75+ years         1677     4738100              35.39   \n",
       "\n",
       "       gdp_for_year  gdp_per_capita       generation  \n",
       "20936  506500173960            3740  G.I. Generation  \n",
       "20937  506500173960            3740           Silent  \n",
       "20938  506500173960            3740  G.I. Generation  \n",
       "20939  506500173960            3740          Boomers  \n",
       "20940  506500173960            3740  G.I. Generation  "
      ]
     },
     "execution_count": 13,
     "metadata": {},
     "output_type": "execute_result"
    }
   ],
   "source": [
    "df_russian = Suicide_data[Suicide_data['country'] == 'Russian Federation']\n",
    "df_russian.drop(['country'], axis = 1, inplace = True)\n",
    "df_russian.head()"
   ]
  },
  {
   "cell_type": "code",
   "execution_count": 32,
   "metadata": {},
   "outputs": [
    {
     "data": {
      "text/html": [
       "<div>\n",
       "<style scoped>\n",
       "    .dataframe tbody tr th:only-of-type {\n",
       "        vertical-align: middle;\n",
       "    }\n",
       "\n",
       "    .dataframe tbody tr th {\n",
       "        vertical-align: top;\n",
       "    }\n",
       "\n",
       "    .dataframe thead th {\n",
       "        text-align: right;\n",
       "    }\n",
       "</style>\n",
       "<table border=\"1\" class=\"dataframe\">\n",
       "  <thead>\n",
       "    <tr style=\"text-align: right;\">\n",
       "      <th></th>\n",
       "      <th>Mean</th>\n",
       "      <th>Median</th>\n",
       "      <th>Standard Deviation</th>\n",
       "      <th>Variance</th>\n",
       "      <th>SEM</th>\n",
       "    </tr>\n",
       "    <tr>\n",
       "      <th>year</th>\n",
       "      <th></th>\n",
       "      <th></th>\n",
       "      <th></th>\n",
       "      <th></th>\n",
       "      <th></th>\n",
       "    </tr>\n",
       "  </thead>\n",
       "  <tbody>\n",
       "    <tr>\n",
       "      <th>1989</th>\n",
       "      <td>33.235000</td>\n",
       "      <td>22.610</td>\n",
       "      <td>32.615971</td>\n",
       "      <td>1063.801536</td>\n",
       "      <td>9.415420</td>\n",
       "    </tr>\n",
       "    <tr>\n",
       "      <th>1990</th>\n",
       "      <td>33.264167</td>\n",
       "      <td>24.145</td>\n",
       "      <td>31.806766</td>\n",
       "      <td>1011.670390</td>\n",
       "      <td>9.181823</td>\n",
       "    </tr>\n",
       "    <tr>\n",
       "      <th>1991</th>\n",
       "      <td>33.033333</td>\n",
       "      <td>24.025</td>\n",
       "      <td>31.531402</td>\n",
       "      <td>994.229315</td>\n",
       "      <td>9.102332</td>\n",
       "    </tr>\n",
       "    <tr>\n",
       "      <th>1992</th>\n",
       "      <td>36.456667</td>\n",
       "      <td>25.040</td>\n",
       "      <td>34.208668</td>\n",
       "      <td>1170.232988</td>\n",
       "      <td>9.875192</td>\n",
       "    </tr>\n",
       "    <tr>\n",
       "      <th>1993</th>\n",
       "      <td>43.505000</td>\n",
       "      <td>26.260</td>\n",
       "      <td>41.805593</td>\n",
       "      <td>1747.707573</td>\n",
       "      <td>12.068235</td>\n",
       "    </tr>\n",
       "    <tr>\n",
       "      <th>1994</th>\n",
       "      <td>47.303333</td>\n",
       "      <td>26.335</td>\n",
       "      <td>45.789323</td>\n",
       "      <td>2096.662061</td>\n",
       "      <td>13.218239</td>\n",
       "    </tr>\n",
       "    <tr>\n",
       "      <th>1995</th>\n",
       "      <td>45.615000</td>\n",
       "      <td>27.540</td>\n",
       "      <td>42.427407</td>\n",
       "      <td>1800.084827</td>\n",
       "      <td>12.247737</td>\n",
       "    </tr>\n",
       "    <tr>\n",
       "      <th>1996</th>\n",
       "      <td>43.856667</td>\n",
       "      <td>25.385</td>\n",
       "      <td>41.184245</td>\n",
       "      <td>1696.142061</td>\n",
       "      <td>11.888868</td>\n",
       "    </tr>\n",
       "    <tr>\n",
       "      <th>1997</th>\n",
       "      <td>42.340833</td>\n",
       "      <td>25.435</td>\n",
       "      <td>39.322482</td>\n",
       "      <td>1546.257627</td>\n",
       "      <td>11.351423</td>\n",
       "    </tr>\n",
       "    <tr>\n",
       "      <th>1998</th>\n",
       "      <td>39.561667</td>\n",
       "      <td>24.690</td>\n",
       "      <td>36.256173</td>\n",
       "      <td>1314.510106</td>\n",
       "      <td>10.466256</td>\n",
       "    </tr>\n",
       "    <tr>\n",
       "      <th>1999</th>\n",
       "      <td>42.510833</td>\n",
       "      <td>25.640</td>\n",
       "      <td>38.914705</td>\n",
       "      <td>1514.354281</td>\n",
       "      <td>11.233708</td>\n",
       "    </tr>\n",
       "    <tr>\n",
       "      <th>2000</th>\n",
       "      <td>42.039167</td>\n",
       "      <td>22.935</td>\n",
       "      <td>39.004250</td>\n",
       "      <td>1521.331499</td>\n",
       "      <td>11.259557</td>\n",
       "    </tr>\n",
       "    <tr>\n",
       "      <th>2001</th>\n",
       "      <td>42.054167</td>\n",
       "      <td>21.680</td>\n",
       "      <td>39.046150</td>\n",
       "      <td>1524.601808</td>\n",
       "      <td>11.271653</td>\n",
       "    </tr>\n",
       "    <tr>\n",
       "      <th>2002</th>\n",
       "      <td>40.712500</td>\n",
       "      <td>22.245</td>\n",
       "      <td>37.448689</td>\n",
       "      <td>1402.404330</td>\n",
       "      <td>10.810505</td>\n",
       "    </tr>\n",
       "    <tr>\n",
       "      <th>2003</th>\n",
       "      <td>39.075833</td>\n",
       "      <td>20.990</td>\n",
       "      <td>36.747762</td>\n",
       "      <td>1350.398027</td>\n",
       "      <td>10.608165</td>\n",
       "    </tr>\n",
       "    <tr>\n",
       "      <th>2004</th>\n",
       "      <td>37.300833</td>\n",
       "      <td>19.675</td>\n",
       "      <td>35.000018</td>\n",
       "      <td>1225.001227</td>\n",
       "      <td>10.103635</td>\n",
       "    </tr>\n",
       "    <tr>\n",
       "      <th>2005</th>\n",
       "      <td>35.028333</td>\n",
       "      <td>17.940</td>\n",
       "      <td>33.158161</td>\n",
       "      <td>1099.463652</td>\n",
       "      <td>9.571937</td>\n",
       "    </tr>\n",
       "    <tr>\n",
       "      <th>2006</th>\n",
       "      <td>33.442500</td>\n",
       "      <td>17.985</td>\n",
       "      <td>31.612711</td>\n",
       "      <td>999.363475</td>\n",
       "      <td>9.125804</td>\n",
       "    </tr>\n",
       "    <tr>\n",
       "      <th>2007</th>\n",
       "      <td>32.249167</td>\n",
       "      <td>17.455</td>\n",
       "      <td>29.855495</td>\n",
       "      <td>891.350572</td>\n",
       "      <td>8.618539</td>\n",
       "    </tr>\n",
       "    <tr>\n",
       "      <th>2008</th>\n",
       "      <td>30.566667</td>\n",
       "      <td>16.315</td>\n",
       "      <td>28.709823</td>\n",
       "      <td>824.253915</td>\n",
       "      <td>8.287812</td>\n",
       "    </tr>\n",
       "    <tr>\n",
       "      <th>2009</th>\n",
       "      <td>29.400000</td>\n",
       "      <td>14.680</td>\n",
       "      <td>27.459577</td>\n",
       "      <td>754.028382</td>\n",
       "      <td>7.926897</td>\n",
       "    </tr>\n",
       "    <tr>\n",
       "      <th>2010</th>\n",
       "      <td>26.600833</td>\n",
       "      <td>13.115</td>\n",
       "      <td>25.469422</td>\n",
       "      <td>648.691463</td>\n",
       "      <td>7.352389</td>\n",
       "    </tr>\n",
       "    <tr>\n",
       "      <th>2011</th>\n",
       "      <td>24.973333</td>\n",
       "      <td>13.265</td>\n",
       "      <td>23.731481</td>\n",
       "      <td>563.183170</td>\n",
       "      <td>6.850688</td>\n",
       "    </tr>\n",
       "    <tr>\n",
       "      <th>2012</th>\n",
       "      <td>23.792500</td>\n",
       "      <td>12.690</td>\n",
       "      <td>22.410089</td>\n",
       "      <td>502.212111</td>\n",
       "      <td>6.469236</td>\n",
       "    </tr>\n",
       "    <tr>\n",
       "      <th>2013</th>\n",
       "      <td>22.830833</td>\n",
       "      <td>11.265</td>\n",
       "      <td>22.169301</td>\n",
       "      <td>491.477917</td>\n",
       "      <td>6.399726</td>\n",
       "    </tr>\n",
       "    <tr>\n",
       "      <th>2014</th>\n",
       "      <td>21.601667</td>\n",
       "      <td>11.170</td>\n",
       "      <td>21.728989</td>\n",
       "      <td>472.148961</td>\n",
       "      <td>6.272619</td>\n",
       "    </tr>\n",
       "    <tr>\n",
       "      <th>2015</th>\n",
       "      <td>19.743333</td>\n",
       "      <td>10.100</td>\n",
       "      <td>19.339118</td>\n",
       "      <td>374.001497</td>\n",
       "      <td>5.582723</td>\n",
       "    </tr>\n",
       "  </tbody>\n",
       "</table>\n",
       "</div>"
      ],
      "text/plain": [
       "           Mean  Median  Standard Deviation     Variance        SEM\n",
       "year                                                               \n",
       "1989  33.235000  22.610           32.615971  1063.801536   9.415420\n",
       "1990  33.264167  24.145           31.806766  1011.670390   9.181823\n",
       "1991  33.033333  24.025           31.531402   994.229315   9.102332\n",
       "1992  36.456667  25.040           34.208668  1170.232988   9.875192\n",
       "1993  43.505000  26.260           41.805593  1747.707573  12.068235\n",
       "1994  47.303333  26.335           45.789323  2096.662061  13.218239\n",
       "1995  45.615000  27.540           42.427407  1800.084827  12.247737\n",
       "1996  43.856667  25.385           41.184245  1696.142061  11.888868\n",
       "1997  42.340833  25.435           39.322482  1546.257627  11.351423\n",
       "1998  39.561667  24.690           36.256173  1314.510106  10.466256\n",
       "1999  42.510833  25.640           38.914705  1514.354281  11.233708\n",
       "2000  42.039167  22.935           39.004250  1521.331499  11.259557\n",
       "2001  42.054167  21.680           39.046150  1524.601808  11.271653\n",
       "2002  40.712500  22.245           37.448689  1402.404330  10.810505\n",
       "2003  39.075833  20.990           36.747762  1350.398027  10.608165\n",
       "2004  37.300833  19.675           35.000018  1225.001227  10.103635\n",
       "2005  35.028333  17.940           33.158161  1099.463652   9.571937\n",
       "2006  33.442500  17.985           31.612711   999.363475   9.125804\n",
       "2007  32.249167  17.455           29.855495   891.350572   8.618539\n",
       "2008  30.566667  16.315           28.709823   824.253915   8.287812\n",
       "2009  29.400000  14.680           27.459577   754.028382   7.926897\n",
       "2010  26.600833  13.115           25.469422   648.691463   7.352389\n",
       "2011  24.973333  13.265           23.731481   563.183170   6.850688\n",
       "2012  23.792500  12.690           22.410089   502.212111   6.469236\n",
       "2013  22.830833  11.265           22.169301   491.477917   6.399726\n",
       "2014  21.601667  11.170           21.728989   472.148961   6.272619\n",
       "2015  19.743333  10.100           19.339118   374.001497   5.582723"
      ]
     },
     "execution_count": 32,
     "metadata": {},
     "output_type": "execute_result"
    }
   ],
   "source": [
    "Suicide_stad_russian = pd.DataFrame(df_russian.groupby(\"year\").count())\n",
    "\n",
    "Suicide_stad_russian[\"Mean\"] = pd.DataFrame(df_russian.groupby(\"year\")[\"suicides/100k pop\"].mean())\n",
    "Suicide_stad_russian[\"Median\"] = pd.DataFrame(df_russian.groupby(\"year\")[\"suicides/100k pop\"].median())\n",
    "Suicide_stad_russian[\"Standard Deviation\"] = pd.DataFrame(df_russian.groupby(\"year\")[\"suicides/100k pop\"].std())\n",
    "Suicide_stad_russian[\"Variance\"] = pd.DataFrame(df_russian.groupby(\"year\")[\"suicides/100k pop\"].var())\n",
    "Suicide_stad_russian[\"SEM\"] = pd.DataFrame(df_russian.groupby(\"year\")[\"suicides/100k pop\"].sem())\n",
    "\n",
    "\n",
    "Suicide_stad_russian = Suicide_stad_russian[[\"Mean\", \"Median\", \"Standard Deviation\", \"Variance\", \"SEM\"]]\n",
    "\n",
    "\n",
    "Suicide_stad_russian.head(27)"
   ]
  },
  {
   "cell_type": "code",
   "execution_count": 14,
   "metadata": {},
   "outputs": [
    {
     "data": {
      "text/plain": [
       "<matplotlib.axes._subplots.AxesSubplot at 0x6936788>"
      ]
     },
     "execution_count": 14,
     "metadata": {},
     "output_type": "execute_result"
    },
    {
     "data": {
      "image/png": "[encoded data removed]",
      "text/plain": [
       "<Figure size 576x360 with 1 Axes>"
      ]
     },
     "metadata": {
      "needs_background": "light"
     },
     "output_type": "display_data"
    }
   ],
   "source": [
    "suicides_no_year = []\n",
    "\n",
    "for y in df_russian['year'].unique():\n",
    "    suicides_no_year.append(sum(df_russian[df_russian['year'] == y][\"suicides/100k pop\"]))\n",
    "\n",
    "n_suicides_year = pd.DataFrame(suicides_no_year, columns=[\"suicides/100k pop\"])\n",
    "n_suicides_year['year'] = df_russian['year'].unique()\n",
    "\n",
    "top_year = n_suicides_year.sort_values('suicides/100k pop', ascending=False)['year']\n",
    "top_suicides = n_suicides_year.sort_values('suicides/100k pop', ascending=False)['suicides/100k pop']\n",
    "\n",
    "plt.figure(figsize=(8,5))\n",
    "plt.xticks(rotation=90)\n",
    "plt.title(\"Number of suicides per year in Russia\")\n",
    "sns.barplot(x = top_year, y = top_suicides)"
   ]
  },
  {
   "cell_type": "code",
   "execution_count": 15,
   "metadata": {},
   "outputs": [
    {
     "data": {
      "text/plain": [
       "<matplotlib.axes._subplots.AxesSubplot at 0xc432388>"
      ]
     },
     "execution_count": 15,
     "metadata": {},
     "output_type": "execute_result"
    },
    {
     "data": {
      "image/png": "[encoded data removed]",
      "text/plain": [
       "<Figure size 432x288 with 1 Axes>"
      ]
     },
     "metadata": {
      "needs_background": "light"
     },
     "output_type": "display_data"
    }
   ],
   "source": [
    "\n",
    "suicides_no_age = []\n",
    "\n",
    "for a in df_russian['age'].unique():\n",
    "    suicides_no_age.append(sum(df_russian[df_russian['age'] == a]['suicides_no']))\n",
    "\n",
    "plt.xticks(rotation=30)\n",
    "plt.title(\"Number of suicides per Range of Age in Russia\")\n",
    "sns.barplot(x = df_russian['age'].unique(), y = suicides_no_age)"
   ]
  },
  {
   "cell_type": "code",
   "execution_count": 16,
   "metadata": {},
   "outputs": [
    {
     "ename": "AttributeError",
     "evalue": "'numpy.int32' object has no attribute 'plot'",
     "output_type": "error",
     "traceback": [
      "\u001b[1;31m---------------------------------------------------------------------------\u001b[0m",
      "\u001b[1;31mAttributeError\u001b[0m                            Traceback (most recent call last)",
      "\u001b[1;32m<ipython-input-16-e69f1151e561>\u001b[0m in \u001b[0;36m<module>\u001b[1;34m\u001b[0m\n\u001b[0;32m      2\u001b[0m \u001b[1;33m\u001b[0m\u001b[0m\n\u001b[0;32m      3\u001b[0m \u001b[0msexPie\u001b[0m\u001b[1;33m=\u001b[0m\u001b[0mdf_russian\u001b[0m\u001b[1;33m[\u001b[0m\u001b[1;34m'sex'\u001b[0m\u001b[1;33m]\u001b[0m\u001b[1;33m.\u001b[0m\u001b[0mcount\u001b[0m\u001b[1;33m(\u001b[0m\u001b[1;33m)\u001b[0m\u001b[1;33m\u001b[0m\u001b[1;33m\u001b[0m\u001b[0m\n\u001b[1;32m----> 4\u001b[1;33m \u001b[0msexPie\u001b[0m\u001b[1;33m.\u001b[0m\u001b[0mplot\u001b[0m\u001b[1;33m(\u001b[0m\u001b[0mkind\u001b[0m\u001b[1;33m=\u001b[0m\u001b[1;34m'pie'\u001b[0m\u001b[1;33m,\u001b[0m \u001b[0mexplode\u001b[0m\u001b[1;33m=\u001b[0m\u001b[0mexplode\u001b[0m\u001b[1;33m,\u001b[0m \u001b[0mautopct\u001b[0m\u001b[1;33m=\u001b[0m\u001b[1;34m\"%1.1f%%\"\u001b[0m\u001b[1;33m,\u001b[0m \u001b[0mshadow\u001b[0m\u001b[1;33m=\u001b[0m\u001b[1;32mTrue\u001b[0m\u001b[1;33m)\u001b[0m\u001b[1;33m\u001b[0m\u001b[1;33m\u001b[0m\u001b[0m\n\u001b[0m\u001b[0;32m      5\u001b[0m \u001b[0mplt\u001b[0m\u001b[1;33m.\u001b[0m\u001b[0mtitle\u001b[0m\u001b[1;33m(\u001b[0m\u001b[1;34m\"Distribution Of Female Vs male\"\u001b[0m\u001b[1;33m)\u001b[0m\u001b[1;33m\u001b[0m\u001b[1;33m\u001b[0m\u001b[0m\n\u001b[0;32m      6\u001b[0m \u001b[1;31m#plt.savefig(\"Pandas Pie.png\")\u001b[0m\u001b[1;33m\u001b[0m\u001b[1;33m\u001b[0m\u001b[1;33m\u001b[0m\u001b[0m\n",
      "\u001b[1;31mAttributeError\u001b[0m: 'numpy.int32' object has no attribute 'plot'"
     ]
    }
   ],
   "source": [
    "explode=(0.01,0)\n",
    "\n",
    "sexPie=df_russian['sex'].count()\n",
    "sexPie.plot(kind='pie', explode=explode, autopct=\"%1.1f%%\", shadow=True)\n",
    "plt.title(\"Distribution Of Female Vs male\")\n",
    "#plt.savefig(\"Pandas Pie.png\")"
   ]
  },
  {
   "cell_type": "code",
   "execution_count": 18,
   "metadata": {},
   "outputs": [
    {
     "data": {
      "text/plain": [
       "<matplotlib.axes._subplots.AxesSubplot at 0x56b2748>"
      ]
     },
     "execution_count": 18,
     "metadata": {},
     "output_type": "execute_result"
    },
    {
     "data": {
      "image/png": "[encoded data removed]",
      "text/plain": [
       "<Figure size 432x288 with 1 Axes>"
      ]
     },
     "metadata": {
      "needs_background": "light"
     },
     "output_type": "display_data"
    }
   ],
   "source": [
    "\n",
    "suicides_no_sex = []\n",
    "\n",
    "for s in df_russian['sex'].unique():\n",
    "    suicides_no_sex.append(sum(df_russian[df_russian['sex'] == s]['suicides_no']))\n",
    "plt.title(\"Number of suicides per Gender in Russia\")\n",
    "sns.barplot(x =df_russian['sex'].unique(), y = suicides_no_sex)"
   ]
  },
  {
   "cell_type": "code",
   "execution_count": 19,
   "metadata": {},
   "outputs": [
    {
     "data": {
      "text/plain": [
       "<seaborn.axisgrid.FacetGrid at 0x5696108>"
      ]
     },
     "execution_count": 19,
     "metadata": {},
     "output_type": "execute_result"
    },
    {
     "data": {
      "image/png": "[encoded data removed]",
      "text/plain": [
       "<Figure size 1209.6x288 with 6 Axes>"
      ]
     },
     "metadata": {
      "needs_background": "light"
     },
     "output_type": "display_data"
    }
   ],
   "source": [
    "\n",
    "sns.catplot(x='sex', y='suicides_no',col='age', data=df_russian, estimator=np.median,height=4, aspect=.7,kind='bar')"
   ]
  },
  {
   "cell_type": "code",
   "execution_count": 20,
   "metadata": {},
   "outputs": [
    {
     "data": {
      "text/plain": [
       "Text(0.5, 1.0, 'Number of suicides per Gender in Russia')"
      ]
     },
     "execution_count": 20,
     "metadata": {},
     "output_type": "execute_result"
    },
    {
     "data": {
      "image/png": "[encoded data removed]",
      "text/plain": [
       "<Figure size 432x288 with 1 Axes>"
      ]
     },
     "metadata": {
      "needs_background": "light"
     },
     "output_type": "display_data"
    }
   ],
   "source": [
    "sns.scatterplot(x = 'gdp_for_year', y = 'suicides/100k pop', data = df_russian)\n",
    "plt.title(\"Number of suicides per Gender in Russia\")"
   ]
  },
  {
   "cell_type": "code",
   "execution_count": 21,
   "metadata": {},
   "outputs": [
    {
     "data": {
      "text/plain": [
       "<matplotlib.axes._subplots.AxesSubplot at 0xc742a88>"
      ]
     },
     "execution_count": 21,
     "metadata": {},
     "output_type": "execute_result"
    },
    {
     "data": {
      "image/png": "[encoded data removed]",
      "text/plain": [
       "<Figure size 432x288 with 1 Axes>"
      ]
     },
     "metadata": {
      "needs_background": "light"
     },
     "output_type": "display_data"
    }
   ],
   "source": [
    "sns.scatterplot(x = 'gdp_per_capita', y = 'suicides/100k pop', data = df_russian)"
   ]
  },
  {
   "cell_type": "code",
   "execution_count": 22,
   "metadata": {},
   "outputs": [
    {
     "data": {
      "image/png": "[encoded data removed]",
      "text/plain": [
       "<Figure size 432x288 with 1 Axes>"
      ]
     },
     "metadata": {
      "needs_background": "light"
     },
     "output_type": "display_data"
    }
   ],
   "source": [
    "gdp_per_capita =df_russian.groupby(\"year\")[\"gdp_per_capita\"].mean()\n",
    "suicides_100k_pop = df_russian.groupby(\"year\")[\"suicides/100k pop\"].mean()\n",
    "slope, intercept, rvalue, pvalue, stderr = st.linregress(gdp_per_capita, suicides_100k_pop)\n",
    "\n",
    "line = slope * gdp_per_capita  + intercept\n",
    "plt.scatter(suicides_100k_pop,gdp_per_capita)\n",
    "plt.xlabel(\"gdp_per_capita\")\n",
    "plt.ylabel(\"suicides_100k_pop \")\n",
    "plt.plot(gdp_per_capita,line,\"--\")\n",
    "plt.xticks(gdp_per_capita, rotation=90)\n",
    "plt.show()\n"
   ]
  },
  {
   "cell_type": "code",
   "execution_count": 23,
   "metadata": {},
   "outputs": [
    {
     "data": {
      "text/plain": [
       "<bound method NDFrame.head of 20936    3740\n",
       "20937    3740\n",
       "20938    3740\n",
       "20939    3740\n",
       "20940    3740\n",
       "         ... \n",
       "21255    9987\n",
       "21256    9987\n",
       "21257    9987\n",
       "21258    9987\n",
       "21259    9987\n",
       "Name: gdp_per_capita, Length: 324, dtype: int64>"
      ]
     },
     "execution_count": 23,
     "metadata": {},
     "output_type": "execute_result"
    }
   ],
   "source": [
    "df_russian[\"gdp_per_capita\"].head"
   ]
  },
  {
   "cell_type": "code",
   "execution_count": 91,
   "metadata": {},
   "outputs": [
    {
     "name": "stdout",
     "output_type": "stream",
     "text": [
      "                  year  suicides_no    population  suicides/100k pop  \\\n",
      "gdp_per_capita                                                         \n",
      "1412            1999.0  4747.833333  1.155982e+07          42.510833   \n",
      "1879            2000.0  4718.250000  1.151714e+07          42.039167   \n",
      "1948            1998.0  4293.166667  1.159351e+07          39.561667   \n",
      "2229            2001.0  4746.500000  1.146013e+07          42.054167   \n",
      "2527            2002.0  4585.333333  1.138258e+07          40.712500   \n",
      "2813            1996.0  4792.583333  1.160605e+07          43.856667   \n",
      "2844            1995.0  5045.666667  1.159059e+07          45.615000   \n",
      "2853            1994.0  5118.333333  1.153968e+07          47.303333   \n",
      "2907            1997.0  4562.166667  1.160693e+07          42.340833   \n",
      "3141            2003.0  4287.083333  1.141832e+07          39.075833   \n",
      "3160            1993.0  4653.833333  1.147440e+07          43.505000   \n",
      "3333            1992.0  3826.916667  1.150991e+07          36.456667   \n",
      "3740            1989.0  3160.083333  1.128698e+07          33.235000   \n",
      "3773            1991.0  3273.416667  1.144025e+07          33.033333   \n",
      "3789            1990.0  3252.333333  1.136652e+07          33.264167   \n",
      "4312            2004.0  4091.333333  1.142264e+07          37.300833   \n",
      "5611            2005.0  3816.833333  1.134685e+07          35.028333   \n",
      "7313            2006.0  3551.166667  1.127979e+07          33.442500   \n",
      "9118            2009.0  3117.333333  1.117379e+07          29.400000   \n",
      "9643            2007.0  3429.083333  1.123158e+07          32.249167   \n",
      "9987            2015.0  2119.333333  1.141825e+07          19.743333   \n",
      "11307           2010.0  2779.666667  1.123883e+07          26.600833   \n",
      "12359           2008.0  3184.250000  1.119883e+07          30.566667   \n",
      "15226           2011.0  2586.500000  1.122882e+07          24.973333   \n",
      "15319           2014.0  2211.750000  1.122616e+07          21.601667   \n",
      "16413           2012.0  2470.250000  1.122238e+07          23.792500   \n",
      "17052           2013.0  2390.833333  1.122616e+07          22.830833   \n",
      "\n",
      "                gdp_for_year  \n",
      "gdp_per_capita                \n",
      "1412            1.959058e+11  \n",
      "1879            2.597085e+11  \n",
      "1948            2.709531e+11  \n",
      "2229            3.066027e+11  \n",
      "2527            3.451104e+11  \n",
      "2813            3.917200e+11  \n",
      "2844            3.955311e+11  \n",
      "2853            3.950773e+11  \n",
      "2907            4.049265e+11  \n",
      "3141            4.303478e+11  \n",
      "3160            4.350837e+11  \n",
      "3333            4.602906e+11  \n",
      "3740            5.065002e+11  \n",
      "3773            5.179630e+11  \n",
      "3789            5.168143e+11  \n",
      "4312            5.910167e+11  \n",
      "5611            7.640171e+11  \n",
      "7313            9.899305e+11  \n",
      "9118            1.222644e+12  \n",
      "9643            1.299705e+12  \n",
      "9987            1.368401e+12  \n",
      "11307           1.524916e+12  \n",
      "12359           1.660844e+12  \n",
      "15226           2.051662e+12  \n",
      "15319           2.063663e+12  \n",
      "16413           2.210257e+12  \n",
      "17052           2.297128e+12  \n"
     ]
    }
   ],
   "source": [
    "print(gdp_per_capita)"
   ]
  },
  {
   "cell_type": "code",
   "execution_count": 24,
   "metadata": {},
   "outputs": [
    {
     "name": "stderr",
     "output_type": "stream",
     "text": [
      "C:\\Users\\cdpedroza\\.conda\\envs\\PythonData\\lib\\site-packages\\pandas\\core\\frame.py:3997: SettingWithCopyWarning: \n",
      "A value is trying to be set on a copy of a slice from a DataFrame\n",
      "\n",
      "See the caveats in the documentation: https://pandas.pydata.org/pandas-docs/stable/user_guide/indexing.html#returning-a-view-versus-a-copy\n",
      "  errors=errors,\n"
     ]
    },
    {
     "data": {
      "text/html": [
       "<div>\n",
       "<style scoped>\n",
       "    .dataframe tbody tr th:only-of-type {\n",
       "        vertical-align: middle;\n",
       "    }\n",
       "\n",
       "    .dataframe tbody tr th {\n",
       "        vertical-align: top;\n",
       "    }\n",
       "\n",
       "    .dataframe thead th {\n",
       "        text-align: right;\n",
       "    }\n",
       "</style>\n",
       "<table border=\"1\" class=\"dataframe\">\n",
       "  <thead>\n",
       "    <tr style=\"text-align: right;\">\n",
       "      <th></th>\n",
       "      <th>year</th>\n",
       "      <th>sex</th>\n",
       "      <th>age</th>\n",
       "      <th>suicides_no</th>\n",
       "      <th>population</th>\n",
       "      <th>suicides/100k pop</th>\n",
       "      <th>gdp_for_year</th>\n",
       "      <th>gdp_per_capita</th>\n",
       "      <th>generation</th>\n",
       "    </tr>\n",
       "  </thead>\n",
       "  <tbody>\n",
       "    <tr>\n",
       "      <th>11364</th>\n",
       "      <td>1991</td>\n",
       "      <td>male</td>\n",
       "      <td>75+ years</td>\n",
       "      <td>333</td>\n",
       "      <td>188235</td>\n",
       "      <td>176.91</td>\n",
       "      <td>34748508332</td>\n",
       "      <td>3561</td>\n",
       "      <td>G.I. Generation</td>\n",
       "    </tr>\n",
       "    <tr>\n",
       "      <th>11365</th>\n",
       "      <td>1991</td>\n",
       "      <td>male</td>\n",
       "      <td>35-54 years</td>\n",
       "      <td>1271</td>\n",
       "      <td>1420586</td>\n",
       "      <td>89.47</td>\n",
       "      <td>34748508332</td>\n",
       "      <td>3561</td>\n",
       "      <td>Boomers</td>\n",
       "    </tr>\n",
       "    <tr>\n",
       "      <th>11366</th>\n",
       "      <td>1991</td>\n",
       "      <td>male</td>\n",
       "      <td>55-74 years</td>\n",
       "      <td>751</td>\n",
       "      <td>874916</td>\n",
       "      <td>85.84</td>\n",
       "      <td>34748508332</td>\n",
       "      <td>3561</td>\n",
       "      <td>Silent</td>\n",
       "    </tr>\n",
       "    <tr>\n",
       "      <th>11367</th>\n",
       "      <td>1991</td>\n",
       "      <td>female</td>\n",
       "      <td>75+ years</td>\n",
       "      <td>263</td>\n",
       "      <td>363039</td>\n",
       "      <td>72.44</td>\n",
       "      <td>34748508332</td>\n",
       "      <td>3561</td>\n",
       "      <td>G.I. Generation</td>\n",
       "    </tr>\n",
       "    <tr>\n",
       "      <th>11368</th>\n",
       "      <td>1991</td>\n",
       "      <td>male</td>\n",
       "      <td>25-34 years</td>\n",
       "      <td>364</td>\n",
       "      <td>663374</td>\n",
       "      <td>54.87</td>\n",
       "      <td>34748508332</td>\n",
       "      <td>3561</td>\n",
       "      <td>Boomers</td>\n",
       "    </tr>\n",
       "  </tbody>\n",
       "</table>\n",
       "</div>"
      ],
      "text/plain": [
       "       year     sex          age  suicides_no  population  suicides/100k pop  \\\n",
       "11364  1991    male    75+ years          333      188235             176.91   \n",
       "11365  1991    male  35-54 years         1271     1420586              89.47   \n",
       "11366  1991    male  55-74 years          751      874916              85.84   \n",
       "11367  1991  female    75+ years          263      363039              72.44   \n",
       "11368  1991    male  25-34 years          364      663374              54.87   \n",
       "\n",
       "       gdp_for_year  gdp_per_capita       generation  \n",
       "11364   34748508332            3561  G.I. Generation  \n",
       "11365   34748508332            3561          Boomers  \n",
       "11366   34748508332            3561           Silent  \n",
       "11367   34748508332            3561  G.I. Generation  \n",
       "11368   34748508332            3561          Boomers  "
      ]
     },
     "execution_count": 24,
     "metadata": {},
     "output_type": "execute_result"
    }
   ],
   "source": [
    "df_russian = Suicide_data[Suicide_data['country'] == 'Hungary']\n",
    "df_russian.drop(['country'], axis = 1, inplace = True)\n",
    "df_russian.head()"
   ]
  },
  {
   "cell_type": "code",
   "execution_count": null,
   "metadata": {},
   "outputs": [],
   "source": []
  }
 ],
 "metadata": {
  "kernelspec": {
   "display_name": "Python 3",
   "language": "python",
   "name": "python3"
  },
  "language_info": {
   "codemirror_mode": {
    "name": "ipython",
    "version": 3
   },
   "file_extension": ".py",
   "mimetype": "text/x-python",
   "name": "python",
   "nbconvert_exporter": "python",
   "pygments_lexer": "ipython3",
   "version": "3.7.6"
  }
 },
 "nbformat": 4,
 "nbformat_minor": 4
}
